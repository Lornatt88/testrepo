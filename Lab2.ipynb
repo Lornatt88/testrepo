{
 "cells": [
  {
   "cell_type": "code",
   "execution_count": 1,
   "id": "a054478b-8678-492c-bda0-2ee2ace95c58",
   "metadata": {
    "tags": []
   },
   "outputs": [
    {
     "name": "stdout",
     "output_type": "stream",
     "text": [
      "Requirement already satisfied: beautifulsoup4 in /home/jupyterlab/conda/envs/python/lib/python3.7/site-packages (4.11.1)\n",
      "Requirement already satisfied: soupsieve>1.2 in /home/jupyterlab/conda/envs/python/lib/python3.7/site-packages (from beautifulsoup4) (2.3.2.post1)\n",
      "Requirement already satisfied: requests in /home/jupyterlab/conda/envs/python/lib/python3.7/site-packages (2.29.0)\n",
      "Requirement already satisfied: charset-normalizer<4,>=2 in /home/jupyterlab/conda/envs/python/lib/python3.7/site-packages (from requests) (3.1.0)\n",
      "Requirement already satisfied: idna<4,>=2.5 in /home/jupyterlab/conda/envs/python/lib/python3.7/site-packages (from requests) (3.4)\n",
      "Requirement already satisfied: urllib3<1.27,>=1.21.1 in /home/jupyterlab/conda/envs/python/lib/python3.7/site-packages (from requests) (1.26.15)\n",
      "Requirement already satisfied: certifi>=2017.4.17 in /home/jupyterlab/conda/envs/python/lib/python3.7/site-packages (from requests) (2023.5.7)\n"
     ]
    }
   ],
   "source": [
    "!pip3 install beautifulsoup4\n",
    "!pip3 install requests"
   ]
  },
  {
   "cell_type": "code",
   "execution_count": 2,
   "id": "245afaa1-148b-49b3-b0d2-6f3b8ea98d42",
   "metadata": {
    "tags": []
   },
   "outputs": [],
   "source": [
    "import sys\n",
    "import requests\n",
    "from bs4 import BeautifulSoup\n",
    "import re\n",
    "import unicodedata\n",
    "import pandas as pd"
   ]
  },
  {
   "cell_type": "code",
   "execution_count": 3,
   "id": "0cafc2fa-7713-4d48-946c-8b6333fb781d",
   "metadata": {
    "tags": []
   },
   "outputs": [],
   "source": [
    "def date_time(table_cells):\n",
    "    \"\"\"\n",
    "    This function returns the data and time from the HTML  table cell\n",
    "    Input: the  element of a table data cell extracts extra row\n",
    "    \"\"\"\n",
    "    return [data_time.strip() for data_time in list(table_cells.strings)][0:2]\n",
    "\n",
    "def booster_version(table_cells):\n",
    "    \"\"\"\n",
    "    This function returns the booster version from the HTML  table cell \n",
    "    Input: the  element of a table data cell extracts extra row\n",
    "    \"\"\"\n",
    "    out=''.join([booster_version for i,booster_version in enumerate( table_cells.strings) if i%2==0][0:-1])\n",
    "    return out\n",
    "\n",
    "def landing_status(table_cells):\n",
    "    \"\"\"\n",
    "    This function returns the landing status from the HTML table cell \n",
    "    Input: the  element of a table data cell extracts extra row\n",
    "    \"\"\"\n",
    "    out=[i for i in table_cells.strings][0]\n",
    "    return out\n",
    "\n",
    "\n",
    "def get_mass(table_cells):\n",
    "    mass=unicodedata.normalize(\"NFKD\", table_cells.text).strip()\n",
    "    if mass:\n",
    "        mass.find(\"kg\")\n",
    "        new_mass=mass[0:mass.find(\"kg\")+2]\n",
    "    else:\n",
    "        new_mass=0\n",
    "    return new_mass\n",
    "\n",
    "\n",
    "def extract_column_from_header(row):\n",
    "    \"\"\"\n",
    "    This function returns the landing status from the HTML table cell \n",
    "    Input: the  element of a table data cell extracts extra row\n",
    "    \"\"\"\n",
    "    if (row.br):\n",
    "        row.br.extract()\n",
    "    if row.a:\n",
    "        row.a.extract()\n",
    "    if row.sup:\n",
    "        row.sup.extract()\n",
    "        \n",
    "    colunm_name = ' '.join(row.contents)\n",
    "    \n",
    "    # Filter the digit and empty names\n",
    "    if not(colunm_name.strip().isdigit()):\n",
    "        colunm_name = colunm_name.strip()\n",
    "        return colunm_name    \n"
   ]
  },
  {
   "cell_type": "code",
   "execution_count": 4,
   "id": "b506d61f-c445-49cd-a207-787c85a82cee",
   "metadata": {
    "tags": []
   },
   "outputs": [],
   "source": [
    "static_url = \"https://en.wikipedia.org/w/index.php?title=List_of_Falcon_9_and_Falcon_Heavy_launches&oldid=1027686922\"\n",
    "\n",
    "headers = {\n",
    "    \"User-Agent\": \"Mozilla/5.0 (Windows NT 10.0; Win64; x64) \"\n",
    "                  \"AppleWebKit/537.36 (KHTML, like Gecko) \"\n",
    "                  \"Chrome/91.0.4472.124 Safari/537.36\"\n",
    "}"
   ]
  },
  {
   "cell_type": "code",
   "execution_count": 5,
   "id": "d98a3a07-4ddb-49cd-9a2c-9c6a1cd23346",
   "metadata": {
    "tags": []
   },
   "outputs": [
    {
     "name": "stdout",
     "output_type": "stream",
     "text": [
      "Status Code: 200\n",
      "<!DOCTYPE html>\n",
      "<html class=\"client-nojs vector-feature-language-in-header-enabled vector-feature-language-in-main-page-header-disabled vector-feature-page-tools-pinned-disabled vector-feature-toc-pinned-clientpref-1 vector-feature-main-menu-pinned-disabled vector-feature-limited-width-clientpref-1 vector-feature-limited-width-content-enabled vector-feature-custom-font-size-clientpref-1 vector-feature-appearance-pinned-clientpref-1 vector-feature-night-mode-enabled skin-theme-clientpref-day vect\n"
     ]
    }
   ],
   "source": [
    "# Send HTTP GET request to Wikipedia snapshot page\n",
    "response = requests.get(static_url, headers=headers)\n",
    "\n",
    "# Print status code (200 means success)\n",
    "print(\"Status Code:\", response.status_code)\n",
    "\n",
    "# Preview the first 500 characters of the HTML page\n",
    "print(response.text[:500])\n"
   ]
  },
  {
   "cell_type": "code",
   "execution_count": 6,
   "id": "4df416b9-35be-4e98-81da-93f658ea434b",
   "metadata": {
    "tags": []
   },
   "outputs": [
    {
     "name": "stdout",
     "output_type": "stream",
     "text": [
      "<title>List of Falcon 9 and Falcon Heavy launches - Wikipedia</title>\n",
      "List of Falcon 9 and Falcon Heavy launches - Wikipedia\n"
     ]
    }
   ],
   "source": [
    "# Create a BeautifulSoup object from the response text\n",
    "soup = BeautifulSoup(response.text, \"html.parser\")\n",
    "\n",
    "# Print the page title to check if it's working\n",
    "print(soup.title)\n",
    "print(soup.title.string)\n"
   ]
  },
  {
   "cell_type": "code",
   "execution_count": 7,
   "id": "0f07ac57-85b6-4cfc-a7be-9ee032c5d4be",
   "metadata": {
    "tags": []
   },
   "outputs": [
    {
     "name": "stdout",
     "output_type": "stream",
     "text": [
      "Number of tables: 25\n"
     ]
    }
   ],
   "source": [
    "# Find all <table> elements on the page\n",
    "html_tables = soup.find_all('table')\n",
    "print(\"Number of tables:\", len(html_tables))\n"
   ]
  },
  {
   "cell_type": "code",
   "execution_count": 8,
   "id": "e4801ef6-7920-4cee-b57b-cf216cb284a7",
   "metadata": {
    "tags": []
   },
   "outputs": [
    {
     "name": "stdout",
     "output_type": "stream",
     "text": [
      "<table class=\"wikitable plainrowheaders collapsible\" style=\"width: 100%;\">\n",
      "<tbody><tr>\n",
      "<th scope=\"col\">Flight No.\n",
      "</th>\n",
      "<th scope=\"col\">Date and<br/>time (<a href=\"/wiki/Coordinated_Universal_Time\" title=\"Coordinated Universal Time\">UTC</a>)\n",
      "</th>\n",
      "<th scope=\"col\"><a href=\"/wiki/List_of_Falcon_9_first-stage_boosters\" title=\"List of Falcon 9 first-stage boosters\">Version,<br/>Booster</a> <sup class=\"reference\" id=\"cite_ref-booster_11-0\"><a href=\"#cite_note-booster-11\"><span class=\"cite-bracket\">[<\n"
     ]
    }
   ],
   "source": [
    "# Select the 3rd table (Python index 2)\n",
    "first_launch_table = html_tables[2]\n",
    "\n",
    "# Print out just the first 500 characters to check\n",
    "print(str(first_launch_table)[:500])\n"
   ]
  },
  {
   "cell_type": "code",
   "execution_count": 9,
   "id": "e799f248-fb72-454f-adde-c2377471eadc",
   "metadata": {
    "tags": []
   },
   "outputs": [
    {
     "name": "stdout",
     "output_type": "stream",
     "text": [
      "['Flight No.', 'Date and time ( )', '', 'Launch site', 'Payload', 'Payload mass', 'Orbit', 'Customer', 'Launch outcome', '', None, None, None, None, None, None, None]\n"
     ]
    }
   ],
   "source": [
    "table_head = first_launch_table.find_all('th')\n",
    "column_names = [extract_column_from_header(i) for i in table_head]\n",
    "print(column_names)\n"
   ]
  },
  {
   "cell_type": "code",
   "execution_count": 10,
   "id": "04f77739-0fc8-43e1-83b3-83b00ded10eb",
   "metadata": {
    "tags": []
   },
   "outputs": [
    {
     "name": "stdout",
     "output_type": "stream",
     "text": [
      "['Flight No.', 'Date and time ( )', 'Launch site', 'Payload', 'Payload mass', 'Orbit', 'Customer', 'Launch outcome']\n"
     ]
    }
   ],
   "source": [
    "column_names = []\n",
    "\n",
    "# Find all header cells in the launch table\n",
    "for th in first_launch_table.find_all('th'):\n",
    "    name = extract_column_from_header(th)\n",
    "    if name is not None and len(name) > 0:   # skip empty ones\n",
    "        column_names.append(name)\n",
    "\n",
    "# Print the result\n",
    "print(column_names)\n"
   ]
  },
  {
   "cell_type": "code",
   "execution_count": 11,
   "id": "d4baf73e-afe0-441f-b023-e5aa3ccd3720",
   "metadata": {
    "tags": []
   },
   "outputs": [],
   "source": [
    "launch_dict = dict.fromkeys(column_names)\n",
    "\n",
    "# Remove unwanted column\n",
    "del launch_dict['Date and time ( )']\n",
    "\n",
    "# Initialize each key with an empty list\n",
    "launch_dict['Flight No.'] = []\n",
    "launch_dict['Launch site'] = []\n",
    "launch_dict['Payload'] = []\n",
    "launch_dict['Payload mass'] = []\n",
    "launch_dict['Orbit'] = []\n",
    "launch_dict['Customer'] = []\n",
    "launch_dict['Launch outcome'] = []\n",
    "\n",
    "# Add extra keys\n",
    "launch_dict['Version Booster'] = []\n",
    "launch_dict['Booster landing'] = []\n",
    "launch_dict['Date'] = []\n",
    "launch_dict['Time'] = []\n"
   ]
  },
  {
   "cell_type": "code",
   "execution_count": 18,
   "id": "e8be1aca-24dc-4789-9914-1c9a2bbabcf2",
   "metadata": {
    "tags": []
   },
   "outputs": [
    {
     "name": "stdout",
     "output_type": "stream",
     "text": [
      "Total rows extracted: 121\n"
     ]
    }
   ],
   "source": [
    "extracted_row = 0\n",
    "\n",
    "# Loop through all Falcon 9/Heavy tables on the page\n",
    "for table_number, table in enumerate(soup.find_all('table', \"wikitable plainrowheaders collapsible\")):\n",
    "    \n",
    "    # For each row in the table\n",
    "    for rows in table.find_all(\"tr\"):\n",
    "        \n",
    "        # Check if the row has a launch number in <th>\n",
    "        if rows.th:\n",
    "            if rows.th.string:\n",
    "                flight_number = rows.th.string.strip()\n",
    "                flag = flight_number.isdigit()  # only process if it's a number\n",
    "        else:\n",
    "            flag = False\n",
    "        \n",
    "        # Get all table cells\n",
    "        row = rows.find_all('td')\n",
    "        \n",
    "        if flag:\n",
    "            extracted_row += 1\n",
    "            \n",
    "            # --- Extract values ---\n",
    "            datetimelist = date_time(row[0])\n",
    "            date = datetimelist[0].strip(',')\n",
    "            time = datetimelist[1]\n",
    "            \n",
    "            bv = booster_version(row[1])\n",
    "            if not(bv):\n",
    "                bv = row[1].a.string if row[1].a else row[1].get_text(strip=True)\n",
    "            \n",
    "            launch_site = row[2].a.string if row[2].a else row[2].get_text(strip=True)\n",
    "            payload = row[3].a.string if row[3].a else row[3].get_text(strip=True)\n",
    "            payload_mass = get_mass(row[4])\n",
    "            orbit = row[5].a.string if row[5].a else row[5].get_text(strip=True)\n",
    "            customer = row[6].a.string if row[6].a else row[6].get_text(strip=True)\n",
    "            launch_outcome = list(row[7].strings)[0]\n",
    "            booster_landing = landing_status(row[8])\n",
    "            \n",
    "            # --- Append values into dictionary ---\n",
    "            launch_dict['Flight No.'].append(flight_number)\n",
    "            launch_dict['Date'].append(date)\n",
    "            launch_dict['Time'].append(time)\n",
    "            launch_dict['Version Booster'].append(bv)\n",
    "            launch_dict['Launch site'].append(launch_site)\n",
    "            launch_dict['Payload'].append(payload)\n",
    "            launch_dict['Payload mass'].append(payload_mass)\n",
    "            launch_dict['Orbit'].append(orbit)\n",
    "            launch_dict['Customer'].append(customer)\n",
    "            launch_dict['Launch outcome'].append(launch_outcome)\n",
    "            launch_dict['Booster landing'].append(booster_landing)\n",
    "\n",
    "print(\"Total rows extracted:\", extracted_row)\n"
   ]
  },
  {
   "cell_type": "code",
   "execution_count": 19,
   "id": "157e8efa-dc82-4275-a1b7-51e69b6c336a",
   "metadata": {
    "tags": []
   },
   "outputs": [
    {
     "name": "stdout",
     "output_type": "stream",
     "text": [
      "  Flight No. Launch site                               Payload Payload mass  \\\n",
      "0          1       CCAFS  Dragon Spacecraft Qualification Unit            0   \n",
      "1          2       CCAFS                                Dragon            0   \n",
      "2          3       CCAFS                                Dragon       525 kg   \n",
      "3          4       CCAFS                          SpaceX CRS-1     4,700 kg   \n",
      "4          5       CCAFS                          SpaceX CRS-2     4,877 kg   \n",
      "\n",
      "  Orbit Customer Launch outcome   Version Booster Booster landing  \\\n",
      "0   LEO   SpaceX      Success\\n  F9 v1.07B0003.18         Failure   \n",
      "1   LEO     NASA        Success  F9 v1.07B0004.18         Failure   \n",
      "2   LEO     NASA        Success  F9 v1.07B0005.18    No attempt\\n   \n",
      "3   LEO     NASA      Success\\n  F9 v1.07B0006.18      No attempt   \n",
      "4   LEO     NASA      Success\\n  F9 v1.07B0007.18    No attempt\\n   \n",
      "\n",
      "              Date   Time  \n",
      "0      4 June 2010  18:45  \n",
      "1  8 December 2010  15:43  \n",
      "2      22 May 2012  07:44  \n",
      "3   8 October 2012  00:35  \n",
      "4     1 March 2013  15:10  \n",
      "(121, 11)\n"
     ]
    }
   ],
   "source": [
    "df = pd.DataFrame(launch_dict)\n",
    "print(df.head())          # first 5 rows\n",
    "print(df.shape)           # number of rows and columns"
   ]
  },
  {
   "cell_type": "code",
   "execution_count": 20,
   "id": "a68064cb-36e3-483a-92c6-82c4c3ab1fb4",
   "metadata": {
    "tags": []
   },
   "outputs": [],
   "source": [
    "df.to_csv('spacex_web_scraped.csv', index=False)"
   ]
  },
  {
   "cell_type": "code",
   "execution_count": null,
   "id": "b96861e1-7308-40ab-aa00-d4b8571b7668",
   "metadata": {},
   "outputs": [],
   "source": []
  }
 ],
 "metadata": {
  "kernelspec": {
   "display_name": "Python",
   "language": "python",
   "name": "conda-env-python-py"
  },
  "language_info": {
   "codemirror_mode": {
    "name": "ipython",
    "version": 3
   },
   "file_extension": ".py",
   "mimetype": "text/x-python",
   "name": "python",
   "nbconvert_exporter": "python",
   "pygments_lexer": "ipython3",
   "version": "3.7.12"
  }
 },
 "nbformat": 4,
 "nbformat_minor": 5
}
